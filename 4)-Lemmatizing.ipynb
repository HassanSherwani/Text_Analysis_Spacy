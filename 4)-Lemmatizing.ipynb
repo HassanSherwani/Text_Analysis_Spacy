{
 "cells": [
  {
   "cell_type": "markdown",
   "metadata": {},
   "source": [
    "# Text Normalization\n",
    "Assigning the base forms of words. For example, the lemma of \"was\" is \"be\", and the lemma of \"rats\" is \"rat\"."
   ]
  },
  {
   "cell_type": "code",
   "execution_count": 1,
   "metadata": {},
   "outputs": [],
   "source": [
    "import spacy\n",
    "nlp = spacy.load('en')"
   ]
  },
  {
   "cell_type": "code",
   "execution_count": 2,
   "metadata": {},
   "outputs": [],
   "source": [
    "## Lemmatization  \n",
    "docx_lemma = nlp(\"studying student study studies studio studious\")"
   ]
  },
  {
   "cell_type": "code",
   "execution_count": 3,
   "metadata": {},
   "outputs": [
    {
     "name": "stdout",
     "output_type": "stream",
     "text": [
      "Token=> studying Lemma=> study\n",
      "Token=> student Lemma=> student\n",
      "Token=> study Lemma=> study\n",
      "Token=> studies Lemma=> study\n",
      "Token=> studio Lemma=> studio\n",
      "Token=> studious Lemma=> studious\n"
     ]
    }
   ],
   "source": [
    "for word in docx_lemma:\n",
    "    print(\"Token=>\",word.text,\"Lemma=>\",word.lemma_)"
   ]
  },
  {
   "cell_type": "code",
   "execution_count": 4,
   "metadata": {},
   "outputs": [
    {
     "name": "stdout",
     "output_type": "stream",
     "text": [
      "Token=> studying Lemma=> study VERB\n",
      "Token=> student Lemma=> student NOUN\n",
      "Token=> study Lemma=> study NOUN\n",
      "Token=> studies Lemma=> study NOUN\n",
      "Token=> studio Lemma=> studio NOUN\n",
      "Token=> studious Lemma=> studious ADJ\n"
     ]
    }
   ],
   "source": [
    "for word in docx_lemma:\n",
    "    print(\"Token=>\",word.text,\"Lemma=>\",word.lemma_,word.pos_)"
   ]
  },
  {
   "cell_type": "code",
   "execution_count": 5,
   "metadata": {},
   "outputs": [],
   "source": [
    "docx_lemma2 = nlp(\"walking walks walk walker\")"
   ]
  },
  {
   "cell_type": "code",
   "execution_count": 6,
   "metadata": {},
   "outputs": [
    {
     "name": "stdout",
     "output_type": "stream",
     "text": [
      "Token=> walking Lemma=> walking NOUN\n",
      "Token=> walks Lemma=> walk NOUN\n",
      "Token=> walk Lemma=> walk VERB\n",
      "Token=> walker Lemma=> walker NOUN\n"
     ]
    }
   ],
   "source": [
    "for word in docx_lemma2:\n",
    "    print(\"Token=>\",word.text,\"Lemma=>\",word.lemma_,word.pos_)"
   ]
  }
 ],
 "metadata": {
  "kernelspec": {
   "display_name": "Python 3",
   "language": "python",
   "name": "python3"
  },
  "language_info": {
   "codemirror_mode": {
    "name": "ipython",
    "version": 3
   },
   "file_extension": ".py",
   "mimetype": "text/x-python",
   "name": "python",
   "nbconvert_exporter": "python",
   "pygments_lexer": "ipython3",
   "version": "3.6.3"
  }
 },
 "nbformat": 4,
 "nbformat_minor": 2
}
