{
 "cells": [
  {
   "cell_type": "markdown",
   "metadata": {},
   "source": [
    "# Noun Chunks"
   ]
  },
  {
   "cell_type": "code",
   "execution_count": 1,
   "metadata": {},
   "outputs": [],
   "source": [
    "import spacy\n",
    "nlp = spacy.load('en')"
   ]
  },
  {
   "cell_type": "code",
   "execution_count": 2,
   "metadata": {},
   "outputs": [],
   "source": [
    "#Keeping a simple example\n",
    "myphrase = \"The man reading the news is very tall.,For us the news is a concern\""
   ]
  },
  {
   "cell_type": "code",
   "execution_count": 3,
   "metadata": {},
   "outputs": [
    {
     "data": {
      "text/plain": [
       "'The man reading the news is very tall.,For us the news is a concern'"
      ]
     },
     "execution_count": 3,
     "metadata": {},
     "output_type": "execute_result"
    }
   ],
   "source": [
    "myphrase"
   ]
  },
  {
   "cell_type": "code",
   "execution_count": 4,
   "metadata": {},
   "outputs": [],
   "source": [
    "doc_phrase1 = nlp(\"The man reading the news is very tall.\")"
   ]
  },
  {
   "cell_type": "code",
   "execution_count": 5,
   "metadata": {},
   "outputs": [
    {
     "name": "stdout",
     "output_type": "stream",
     "text": [
      "The man\n",
      "the news\n"
     ]
    }
   ],
   "source": [
    "for word in doc_phrase1.noun_chunks:\n",
    "    print(word.text)"
   ]
  },
  {
   "cell_type": "code",
   "execution_count": 6,
   "metadata": {},
   "outputs": [
    {
     "name": "stdout",
     "output_type": "stream",
     "text": [
      "The man Connector: man\n",
      "the news Connector: news\n"
     ]
    }
   ],
   "source": [
    "# Going one more step deep\n",
    "# Root Text\n",
    "for word in doc_phrase1.noun_chunks:\n",
    "    print(word.text,\"Connector:\",word.root.text)"
   ]
  },
  {
   "cell_type": "code",
   "execution_count": 7,
   "metadata": {},
   "outputs": [],
   "source": [
    "doc_phrase2 = nlp(\"For us the news is a concern.\")"
   ]
  },
  {
   "cell_type": "code",
   "execution_count": 8,
   "metadata": {},
   "outputs": [
    {
     "name": "stdout",
     "output_type": "stream",
     "text": [
      "us Connector: us Text of Root Tokens Head:  For\n",
      "the news Connector: news Text of Root Tokens Head:  is\n",
      "a concern Connector: concern Text of Root Tokens Head:  is\n"
     ]
    }
   ],
   "source": [
    "# Checking root and connector\n",
    "for word in doc_phrase2.noun_chunks:\n",
    "    print(word.text,\"Connector:\",word.root.text,\"Text of Root Tokens Head: \",word.root.head.text)"
   ]
  }
 ],
 "metadata": {
  "kernelspec": {
   "display_name": "Python 3",
   "language": "python",
   "name": "python3"
  },
  "language_info": {
   "codemirror_mode": {
    "name": "ipython",
    "version": 3
   },
   "file_extension": ".py",
   "mimetype": "text/x-python",
   "name": "python",
   "nbconvert_exporter": "python",
   "pygments_lexer": "ipython3",
   "version": "3.6.3"
  }
 },
 "nbformat": 4,
 "nbformat_minor": 2
}
