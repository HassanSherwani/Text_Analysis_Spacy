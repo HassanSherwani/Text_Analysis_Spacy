{
 "cells": [
  {
   "cell_type": "markdown",
   "metadata": {},
   "source": [
    "# Sentence Segmentation or Boundary Detection\n",
    "Deciding where sentences begin and end"
   ]
  },
  {
   "cell_type": "code",
   "execution_count": 1,
   "metadata": {},
   "outputs": [],
   "source": [
    "# For warnings\n",
    "import warnings\n",
    "warnings.filterwarnings('ignore')\n",
    "import spacy\n",
    "nlp = spacy.load('en')"
   ]
  },
  {
   "cell_type": "markdown",
   "metadata": {},
   "source": [
    "# Get some basic concept\n",
    "\n",
    "a) If it's a period, it ends a sentence.\n",
    "(b) If the preceding token is in the hand-compiled list of abbreviations, then it doesn't end a sentence.\n",
    "(c) If the next token is capitalized, then it ends a sentence."
   ]
  },
  {
   "cell_type": "code",
   "execution_count": 2,
   "metadata": {},
   "outputs": [],
   "source": [
    "# Manual or Custom Based\n",
    "def mycustom_boundary(docx):\n",
    "    for token in docx[:-1]:\n",
    "        if token.text == '...':\n",
    "            docx[token.i+1].is_sent_start = True\n",
    "    return docx"
   ]
  },
  {
   "cell_type": "code",
   "execution_count": 3,
   "metadata": {},
   "outputs": [],
   "source": [
    "# Adding the rule before parsing\n",
    "nlp.add_pipe(mycustom_boundary,before='parser')"
   ]
  },
  {
   "cell_type": "code",
   "execution_count": 4,
   "metadata": {},
   "outputs": [],
   "source": [
    "mydoc = nlp(u\"This is my first sentence...the last comment was so cuul... what if...? this is the last sentence\")"
   ]
  },
  {
   "cell_type": "code",
   "execution_count": 5,
   "metadata": {},
   "outputs": [
    {
     "name": "stdout",
     "output_type": "stream",
     "text": [
      "This is my first sentence...\n",
      "the last comment was so cuul...\n",
      "what if...\n",
      "?\n",
      "this is the last sentence\n"
     ]
    }
   ],
   "source": [
    "for sentence in mydoc.sents:\n",
    "    print(sentence.text)"
   ]
  },
  {
   "cell_type": "code",
   "execution_count": 6,
   "metadata": {},
   "outputs": [],
   "source": [
    "def mycustom_boundary2(docx):\n",
    "    for token in docx[:-1]:\n",
    "        if token.text == '---':\n",
    "            docx[token.i+1].is_sent_start = True\n",
    "    return docx"
   ]
  },
  {
   "cell_type": "code",
   "execution_count": 7,
   "metadata": {},
   "outputs": [],
   "source": [
    "nlp2 = spacy.load('en')"
   ]
  },
  {
   "cell_type": "code",
   "execution_count": 8,
   "metadata": {},
   "outputs": [],
   "source": [
    "# Adding the rule before parsing\n",
    "nlp2.add_pipe(mycustom_boundary2,before='parser')"
   ]
  },
  {
   "cell_type": "code",
   "execution_count": 9,
   "metadata": {},
   "outputs": [],
   "source": [
    "mydoc2 = nlp2(u\"Last year was great---this year 2018-05-22 will be so cuul. when was your birthday? ---this is the last sentence\")"
   ]
  },
  {
   "cell_type": "code",
   "execution_count": 10,
   "metadata": {},
   "outputs": [
    {
     "name": "stdout",
     "output_type": "stream",
     "text": [
      "Last year was great---\n",
      "this year 2018-05-22 will be so cuul.\n",
      "when was your birthday?\n",
      "---this is the last sentence\n"
     ]
    }
   ],
   "source": [
    "for sentence in mydoc2.sents:\n",
    "    print(sentence.text)"
   ]
  },
  {
   "cell_type": "code",
   "execution_count": 11,
   "metadata": {},
   "outputs": [
    {
     "data": {
      "text/plain": [
       "('parser', <spacy.pipeline.pipes.DependencyParser at 0x1ebaac4b0a8>)"
      ]
     },
     "execution_count": 11,
     "metadata": {},
     "output_type": "execute_result"
    }
   ],
   "source": [
    "# Removing the parsing\n",
    "nlp.remove_pipe('parser')"
   ]
  },
  {
   "cell_type": "code",
   "execution_count": 12,
   "metadata": {},
   "outputs": [],
   "source": [
    "nlp = spacy.load('en')"
   ]
  },
  {
   "cell_type": "code",
   "execution_count": 13,
   "metadata": {},
   "outputs": [],
   "source": [
    "mydoc3 = nlp(u\"This is my first sentence...the last comment was so cuul... what if...? this is the last sentence\")"
   ]
  },
  {
   "cell_type": "code",
   "execution_count": 14,
   "metadata": {},
   "outputs": [
    {
     "name": "stdout",
     "output_type": "stream",
     "text": [
      "This is my first sentence...\n",
      "the last comment was so cuul...\n",
      "what if...?\n",
      "this is the last sentence\n"
     ]
    }
   ],
   "source": [
    "for sentence in mydoc3.sents:\n",
    "    print(sentence.text)"
   ]
  },
  {
   "cell_type": "markdown",
   "metadata": {},
   "source": [
    "# Custome Rule Based"
   ]
  },
  {
   "cell_type": "code",
   "execution_count": 15,
   "metadata": {},
   "outputs": [],
   "source": [
    "from spacy.lang.en import English\n",
    "from spacy.pipeline import SentenceSegmenter"
   ]
  },
  {
   "cell_type": "code",
   "execution_count": 16,
   "metadata": {},
   "outputs": [],
   "source": [
    "def split_on_newlines(doc):\n",
    "    start = 0\n",
    "    seen_newline = False\n",
    "    for word in doc:\n",
    "        if seen_newline and not word.is_space:\n",
    "            yield doc[start:word.i]\n",
    "            start = word.i\n",
    "            seen_newline = False\n",
    "        elif word.text == '\\n':\n",
    "            seen_newline = True\n",
    "    if start < len(doc):\n",
    "        yield doc[start:len(doc)]"
   ]
  },
  {
   "cell_type": "code",
   "execution_count": 17,
   "metadata": {},
   "outputs": [],
   "source": [
    "def split_on_tab(doc):\n",
    "    start = 0\n",
    "    seen_newline = False\n",
    "    for word in doc:\n",
    "        if seen_newline and not word.is_space:\n",
    "            yield doc[start:word.i]\n",
    "            start = word.i\n",
    "            seen_newline = False\n",
    "        elif word.text == '\\t':\n",
    "            seen_newline = True\n",
    "    if start < len(doc):\n",
    "        yield doc[start:len(doc)]"
   ]
  },
  {
   "cell_type": "code",
   "execution_count": 18,
   "metadata": {},
   "outputs": [],
   "source": [
    "nlp = English()  # just the language with no model\n",
    "sbd = SentenceSegmenter(nlp.vocab, strategy=split_on_newlines)\n",
    "nlp.add_pipe(sbd)"
   ]
  },
  {
   "cell_type": "code",
   "execution_count": 19,
   "metadata": {},
   "outputs": [
    {
     "name": "stdout",
     "output_type": "stream",
     "text": [
      "This is a great sentence\n",
      "\n",
      "This is another comment\n",
      "\n",
      "And more\n"
     ]
    }
   ],
   "source": [
    "doc = nlp(u\"This is a great sentence\\n\\nThis is another comment\\nAnd more\")\n",
    "for sent in doc.sents:\n",
    "    print(sent.text)"
   ]
  },
  {
   "cell_type": "code",
   "execution_count": 20,
   "metadata": {},
   "outputs": [
    {
     "name": "stdout",
     "output_type": "stream",
     "text": [
      "['This', 'is', 'a', 'great', 'sentence', '\\n\\n', 'This', 'is', 'another', 'comment', '\\n']\n",
      "['And', 'more']\n"
     ]
    }
   ],
   "source": [
    "doc = nlp(u\"This is a great sentence\\n\\nThis is another comment\\nAnd more\")\n",
    "for sent in doc.sents:\n",
    "    print([token.text for token in sent])"
   ]
  },
  {
   "cell_type": "code",
   "execution_count": 21,
   "metadata": {},
   "outputs": [],
   "source": [
    "nlp_tab = English()  # just the language with no model\n",
    "sbd_tab = SentenceSegmenter(nlp.vocab, strategy=split_on_tab)\n",
    "nlp_tab.add_pipe(sbd_tab)"
   ]
  },
  {
   "cell_type": "code",
   "execution_count": 22,
   "metadata": {},
   "outputs": [],
   "source": [
    "## Spliting on Tabs\n",
    "doc_tab = nlp_tab(u\"This is a great sentence\\t This is another\\t comment\\t And more\")"
   ]
  },
  {
   "cell_type": "code",
   "execution_count": 23,
   "metadata": {},
   "outputs": [
    {
     "name": "stdout",
     "output_type": "stream",
     "text": [
      "This is a great sentence\t This is another\t comment\t And more\n"
     ]
    }
   ],
   "source": [
    "for sent in doc_tab.sents:\n",
    "    print(sent.text)"
   ]
  }
 ],
 "metadata": {
  "kernelspec": {
   "display_name": "Python 3",
   "language": "python",
   "name": "python3"
  },
  "language_info": {
   "codemirror_mode": {
    "name": "ipython",
    "version": 3
   },
   "file_extension": ".py",
   "mimetype": "text/x-python",
   "name": "python",
   "nbconvert_exporter": "python",
   "pygments_lexer": "ipython3",
   "version": "3.6.3"
  }
 },
 "nbformat": 4,
 "nbformat_minor": 2
}
