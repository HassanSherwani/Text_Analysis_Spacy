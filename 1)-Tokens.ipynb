{
 "cells": [
  {
   "cell_type": "markdown",
   "metadata": {},
   "source": [
    "# Tokenization\n",
    "Segmenting text into words, punctuations marks etc"
   ]
  },
  {
   "cell_type": "markdown",
   "metadata": {},
   "source": [
    "# Loading the package"
   ]
  },
  {
   "cell_type": "code",
   "execution_count": 1,
   "metadata": {},
   "outputs": [],
   "source": [
    "import spacy\n",
    "nlp = spacy.load('en')\n",
    "\n",
    "#nlp = en_core_web_sm.load()"
   ]
  },
  {
   "cell_type": "code",
   "execution_count": 2,
   "metadata": {},
   "outputs": [],
   "source": [
    "# Reading the text /tokens\n",
    "docx = nlp(\"Sharp rise in patent applications for self-driving vehicles in Europe\")"
   ]
  },
  {
   "cell_type": "code",
   "execution_count": 3,
   "metadata": {},
   "outputs": [
    {
     "data": {
      "text/plain": [
       "Sharp rise in patent applications for self-driving vehicles in Europe"
      ]
     },
     "execution_count": 3,
     "metadata": {},
     "output_type": "execute_result"
    }
   ],
   "source": [
    "docx"
   ]
  },
  {
   "cell_type": "code",
   "execution_count": 4,
   "metadata": {},
   "outputs": [],
   "source": [
    "docx2= nlp(u\"A study published today, 6 November 2018, by the European Patent Office (EPO) reveals that innovation in self-driving vehicles (SDV) is accelerating fast\")"
   ]
  },
  {
   "cell_type": "markdown",
   "metadata": {},
   "source": [
    "# Reading a file"
   ]
  },
  {
   "cell_type": "code",
   "execution_count": 5,
   "metadata": {},
   "outputs": [],
   "source": [
    "myfile = open(\"examplefile.txt\").read()"
   ]
  },
  {
   "cell_type": "code",
   "execution_count": 6,
   "metadata": {},
   "outputs": [],
   "source": [
    "doc_file = nlp(myfile)"
   ]
  },
  {
   "cell_type": "code",
   "execution_count": 7,
   "metadata": {},
   "outputs": [
    {
     "data": {
      "text/plain": [
       "A study published today, 6 November 2018, by the European Patent Office (EPO) reveals that innovation in self-driving vehicles (SDV) is accelerating fast. \n",
       "Additionally, study finds that patent protection strategies in the area of self-driving vehicle technology more closely resemble those in the information and communication (ICT) sector than those in the traditional automotive industry.\n",
       "\n",
       "https://www.epo.org/news-issues/news/2018/20181106.html\n"
      ]
     },
     "execution_count": 7,
     "metadata": {},
     "output_type": "execute_result"
    }
   ],
   "source": [
    "doc_file"
   ]
  },
  {
   "cell_type": "code",
   "execution_count": 8,
   "metadata": {},
   "outputs": [
    {
     "data": {
      "text/plain": [
       "A study published today, 6 November 2018, by the European Patent Office (EPO) reveals that innovation"
      ]
     },
     "execution_count": 8,
     "metadata": {},
     "output_type": "execute_result"
    }
   ],
   "source": [
    "# As this over-whelming. We can read few initial words only\n",
    "doc_file[:20]"
   ]
  },
  {
   "cell_type": "markdown",
   "metadata": {},
   "source": [
    "# Sentence Tokens"
   ]
  },
  {
   "cell_type": "code",
   "execution_count": 9,
   "metadata": {},
   "outputs": [
    {
     "name": "stdout",
     "output_type": "stream",
     "text": [
      "A study published today, 6 November 2018, by the European Patent Office (EPO) reveals that innovation in self-driving vehicles (SDV) is accelerating fast. \n",
      "\n",
      "Additionally, study finds that patent protection strategies in the area of self-driving vehicle technology more closely resemble those in the information and communication (ICT) sector than those in the traditional automotive industry.\n",
      "\n",
      "\n",
      "https://www.epo.org/news-issues/news/2018/20181106.html\n",
      "\n",
      "\n"
     ]
    }
   ],
   "source": [
    "# show output by sentence\n",
    "for sentence in doc_file.sents:\n",
    "    print(sentence)"
   ]
  },
  {
   "cell_type": "code",
   "execution_count": 10,
   "metadata": {},
   "outputs": [
    {
     "name": "stdout",
     "output_type": "stream",
     "text": [
      "0: A study published today, 6 November 2018, by the European Patent Office (EPO) reveals that innovation in self-driving vehicles (SDV) is accelerating fast. \n",
      "\n",
      "1: Additionally, study finds that patent protection strategies in the area of self-driving vehicle technology more closely resemble those in the information and communication (ICT) sector than those in the traditional automotive industry.\n",
      "\n",
      "\n",
      "2: https://www.epo.org/news-issues/news/2018/20181106.html\n",
      "\n",
      "\n"
     ]
    }
   ],
   "source": [
    "# Show by each sentence with a number to keep track of line number\n",
    "for num,sentence in enumerate(doc_file.sents):\n",
    "    print(f'{num}: {sentence}') "
   ]
  },
  {
   "cell_type": "markdown",
   "metadata": {},
   "source": [
    "Our command is dividing them into sentences based on their punctuations. "
   ]
  },
  {
   "cell_type": "code",
   "execution_count": 11,
   "metadata": {},
   "outputs": [
    {
     "name": "stdout",
     "output_type": "stream",
     "text": [
      "A\n",
      "study\n",
      "published\n",
      "today\n",
      ",\n",
      "6\n",
      "November\n",
      "2018\n",
      ",\n",
      "by\n",
      "the\n",
      "European\n",
      "Patent\n",
      "Office\n",
      "(\n",
      "EPO\n",
      ")\n",
      "reveals\n",
      "that\n",
      "innovation\n",
      "in\n",
      "self\n",
      "-\n",
      "driving\n",
      "vehicles\n",
      "(\n",
      "SDV\n",
      ")\n",
      "is\n",
      "accelerating\n",
      "fast\n",
      ".\n",
      "\n",
      "\n",
      "Additionally\n",
      ",\n",
      "study\n",
      "finds\n",
      "that\n",
      "patent\n",
      "protection\n",
      "strategies\n",
      "in\n",
      "the\n",
      "area\n",
      "of\n",
      "self\n",
      "-\n",
      "driving\n",
      "vehicle\n",
      "technology\n",
      "more\n",
      "closely\n",
      "resemble\n",
      "those\n",
      "in\n",
      "the\n",
      "information\n",
      "and\n",
      "communication\n",
      "(\n",
      "ICT\n",
      ")\n",
      "sector\n",
      "than\n",
      "those\n",
      "in\n",
      "the\n",
      "traditional\n",
      "automotive\n",
      "industry\n",
      ".\n",
      "\n",
      "\n",
      "\n",
      "https://www.epo.org/news-issues/news/2018/20181106.html\n",
      "\n",
      "\n",
      "\n"
     ]
    }
   ],
   "source": [
    "# Word Tokens\n",
    "for token in doc_file:\n",
    "    print(token.text)"
   ]
  },
  {
   "cell_type": "markdown",
   "metadata": {},
   "source": [
    "Note how each word is in token except weblink"
   ]
  },
  {
   "cell_type": "markdown",
   "metadata": {},
   "source": [
    "### List of Word Tokens"
   ]
  },
  {
   "cell_type": "code",
   "execution_count": 12,
   "metadata": {},
   "outputs": [
    {
     "data": {
      "text/plain": [
       "['A',\n",
       " 'study',\n",
       " 'published',\n",
       " 'today',\n",
       " ',',\n",
       " '6',\n",
       " 'November',\n",
       " '2018',\n",
       " ',',\n",
       " 'by',\n",
       " 'the',\n",
       " 'European',\n",
       " 'Patent',\n",
       " 'Office',\n",
       " '(',\n",
       " 'EPO',\n",
       " ')',\n",
       " 'reveals',\n",
       " 'that',\n",
       " 'innovation',\n",
       " 'in',\n",
       " 'self',\n",
       " '-',\n",
       " 'driving',\n",
       " 'vehicles',\n",
       " '(',\n",
       " 'SDV',\n",
       " ')',\n",
       " 'is',\n",
       " 'accelerating',\n",
       " 'fast',\n",
       " '.',\n",
       " '\\n',\n",
       " 'Additionally',\n",
       " ',',\n",
       " 'study',\n",
       " 'finds',\n",
       " 'that',\n",
       " 'patent',\n",
       " 'protection',\n",
       " 'strategies',\n",
       " 'in',\n",
       " 'the',\n",
       " 'area',\n",
       " 'of',\n",
       " 'self',\n",
       " '-',\n",
       " 'driving',\n",
       " 'vehicle',\n",
       " 'technology',\n",
       " 'more',\n",
       " 'closely',\n",
       " 'resemble',\n",
       " 'those',\n",
       " 'in',\n",
       " 'the',\n",
       " 'information',\n",
       " 'and',\n",
       " 'communication',\n",
       " '(',\n",
       " 'ICT',\n",
       " ')',\n",
       " 'sector',\n",
       " 'than',\n",
       " 'those',\n",
       " 'in',\n",
       " 'the',\n",
       " 'traditional',\n",
       " 'automotive',\n",
       " 'industry',\n",
       " '.',\n",
       " '\\n\\n',\n",
       " 'https://www.epo.org/news-issues/news/2018/20181106.html',\n",
       " '\\n\\n']"
      ]
     },
     "execution_count": 12,
     "metadata": {},
     "output_type": "execute_result"
    }
   ],
   "source": [
    "[token.text for token in doc_file ]"
   ]
  },
  {
   "cell_type": "markdown",
   "metadata": {},
   "source": [
    "Now, we have split even weblink into tokens"
   ]
  },
  {
   "cell_type": "code",
   "execution_count": 13,
   "metadata": {},
   "outputs": [
    {
     "data": {
      "text/plain": [
       "['A',\n",
       " 'study',\n",
       " 'published',\n",
       " 'today,',\n",
       " '6',\n",
       " 'November',\n",
       " '2018,',\n",
       " 'by',\n",
       " 'the',\n",
       " 'European',\n",
       " 'Patent',\n",
       " 'Office',\n",
       " '(EPO)',\n",
       " 'reveals',\n",
       " 'that',\n",
       " 'innovation',\n",
       " 'in',\n",
       " 'self-driving',\n",
       " 'vehicles',\n",
       " '(SDV)',\n",
       " 'is',\n",
       " 'accelerating',\n",
       " 'fast.',\n",
       " '\\nAdditionally,',\n",
       " 'study',\n",
       " 'finds',\n",
       " 'that',\n",
       " 'patent',\n",
       " 'protection',\n",
       " 'strategies',\n",
       " 'in',\n",
       " 'the',\n",
       " 'area',\n",
       " 'of',\n",
       " 'self-driving',\n",
       " 'vehicle',\n",
       " 'technology',\n",
       " 'more',\n",
       " 'closely',\n",
       " 'resemble',\n",
       " 'those',\n",
       " 'in',\n",
       " 'the',\n",
       " 'information',\n",
       " 'and',\n",
       " 'communication',\n",
       " '(ICT)',\n",
       " 'sector',\n",
       " 'than',\n",
       " 'those',\n",
       " 'in',\n",
       " 'the',\n",
       " 'traditional',\n",
       " 'automotive',\n",
       " 'industry.\\n\\nhttps://www.epo.org/news-issues/news/2018/20181106.html\\n\\n']"
      ]
     },
     "execution_count": 13,
     "metadata": {},
     "output_type": "execute_result"
    }
   ],
   "source": [
    "# Similar to splitting on spaces like we do in nltk\n",
    "doc_file.text.split(\" \")"
   ]
  },
  {
   "cell_type": "code",
   "execution_count": 14,
   "metadata": {},
   "outputs": [],
   "source": [
    "# Let's create a small text file to see our results\n",
    "ex_doc = nlp(\"Hello hello HELLO HeLLO\")"
   ]
  },
  {
   "cell_type": "code",
   "execution_count": 15,
   "metadata": {},
   "outputs": [
    {
     "data": {
      "text/plain": [
       "['Hello', 'hello', 'HELLO', 'HeLLO']"
      ]
     },
     "execution_count": 15,
     "metadata": {},
     "output_type": "execute_result"
    }
   ],
   "source": [
    "ex_doc.text.split(\" \")"
   ]
  },
  {
   "cell_type": "markdown",
   "metadata": {},
   "source": [
    "### Word Shape"
   ]
  },
  {
   "cell_type": "code",
   "execution_count": 16,
   "metadata": {},
   "outputs": [
    {
     "name": "stdout",
     "output_type": "stream",
     "text": [
      "Hello\n",
      "hello\n",
      "HELLO\n",
      "HeLLO\n"
     ]
    }
   ],
   "source": [
    "for word in ex_doc:\n",
    "    print(word.text)"
   ]
  },
  {
   "cell_type": "markdown",
   "metadata": {},
   "source": [
    "### Word Shape As Hash Value"
   ]
  },
  {
   "cell_type": "code",
   "execution_count": 17,
   "metadata": {},
   "outputs": [
    {
     "name": "stdout",
     "output_type": "stream",
     "text": [
      "Hello 16072095006890171862\n",
      "hello 13110060611322374290\n",
      "HELLO 13862804199789047564\n",
      "HeLLO 2558401074738440126\n"
     ]
    }
   ],
   "source": [
    "for word in ex_doc:\n",
    "    print(word.text,word.shape)"
   ]
  },
  {
   "cell_type": "markdown",
   "metadata": {},
   "source": [
    "Hello 16072095006890171862 is not really understandable for us. So, we will go one step further to make some sense."
   ]
  },
  {
   "cell_type": "markdown",
   "metadata": {},
   "source": [
    "### Word Shape As readable representation"
   ]
  },
  {
   "cell_type": "code",
   "execution_count": 18,
   "metadata": {},
   "outputs": [
    {
     "name": "stdout",
     "output_type": "stream",
     "text": [
      "Hello Xxxxx\n",
      "hello xxxx\n",
      "HELLO XXXX\n",
      "HeLLO XxXXX\n"
     ]
    }
   ],
   "source": [
    "for word in ex_doc:\n",
    "    print(word.text,word.shape_)"
   ]
  },
  {
   "cell_type": "markdown",
   "metadata": {},
   "source": [
    "So, it shows that Hello has 5 words.First one is capital case and rest a small-case letters."
   ]
  },
  {
   "cell_type": "code",
   "execution_count": 19,
   "metadata": {},
   "outputs": [
    {
     "name": "stdout",
     "output_type": "stream",
     "text": [
      "Token => Hello Shape  Xxxxx True False\n",
      "Token => hello Shape  xxxx True False\n",
      "Token => HELLO Shape  XXXX True False\n",
      "Token => HeLLO Shape  XxXXX True False\n"
     ]
    }
   ],
   "source": [
    "for word in ex_doc:\n",
    "    print(\"Token =>\", word.text, \"Shape \",word.shape_,word.is_alpha,word.is_stop)"
   ]
  },
  {
   "cell_type": "markdown",
   "metadata": {},
   "source": [
    "- word.text shows text i.e Hello\n",
    "- word.shape shows shape of hash value \n",
    "- word.shape_ shows shape of words\n",
    "- word.is_alpha shows if it is aplha-numeric(true or false)\n",
    "- word.is_stop shows if there is stop word(true or false)"
   ]
  }
 ],
 "metadata": {
  "kernelspec": {
   "display_name": "Python 3",
   "language": "python",
   "name": "python3"
  },
  "language_info": {
   "codemirror_mode": {
    "name": "ipython",
    "version": 3
   },
   "file_extension": ".py",
   "mimetype": "text/x-python",
   "name": "python",
   "nbconvert_exporter": "python",
   "pygments_lexer": "ipython3",
   "version": "3.6.3"
  }
 },
 "nbformat": 4,
 "nbformat_minor": 2
}
