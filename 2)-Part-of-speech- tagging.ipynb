{
 "cells": [
  {
   "cell_type": "markdown",
   "metadata": {},
   "source": [
    "# Part-of-speech: (POS) \n",
    "\n",
    "Tagging Assigning word types to tokens, like verb or noun."
   ]
  },
  {
   "cell_type": "markdown",
   "metadata": {},
   "source": [
    "## Loading key module"
   ]
  },
  {
   "cell_type": "code",
   "execution_count": 1,
   "metadata": {},
   "outputs": [],
   "source": [
    "import spacy\n",
    "nlp = spacy.load('en')"
   ]
  },
  {
   "cell_type": "code",
   "execution_count": 2,
   "metadata": {},
   "outputs": [],
   "source": [
    "# consider a small text to understand\n",
    "ex1 = nlp(\"He drinks a drink\")"
   ]
  },
  {
   "cell_type": "code",
   "execution_count": 3,
   "metadata": {},
   "outputs": [
    {
     "name": "stdout",
     "output_type": "stream",
     "text": [
      "He 95\n",
      "drinks 100\n",
      "a 90\n",
      "drink 92\n"
     ]
    }
   ],
   "source": [
    "# pos = Parts of Speech Simplified\n",
    "for word in ex1:\n",
    "    print(word.text,word.pos)"
   ]
  },
  {
   "cell_type": "code",
   "execution_count": 4,
   "metadata": {},
   "outputs": [
    {
     "name": "stdout",
     "output_type": "stream",
     "text": [
      "He PRON\n",
      "drinks VERB\n",
      "a DET\n",
      "drink NOUN\n"
     ]
    }
   ],
   "source": [
    "# Use pos_ \n",
    "for word in ex1:\n",
    "    print(word.text,word.pos_)"
   ]
  },
  {
   "cell_type": "code",
   "execution_count": 5,
   "metadata": {},
   "outputs": [],
   "source": [
    "# Parts of Speech Simple Term (.pos_)\n",
    "ex2 = nlp(\"I fish a fish\")"
   ]
  },
  {
   "cell_type": "code",
   "execution_count": 6,
   "metadata": {},
   "outputs": [
    {
     "name": "stdout",
     "output_type": "stream",
     "text": [
      "I PRON PRP\n",
      "fish VERB VBP\n",
      "a DET DT\n",
      "fish NOUN NN\n"
     ]
    }
   ],
   "source": [
    "for word in ex2:\n",
    "    print(word.text,word.pos_,word.tag_)"
   ]
  },
  {
   "cell_type": "markdown",
   "metadata": {},
   "source": [
    "- 1st is text: I\n",
    "- 2nd is pos: PRON=pronoun\n",
    "- 3rd is tag: PRP=pronoun, personal"
   ]
  },
  {
   "cell_type": "markdown",
   "metadata": {},
   "source": [
    "## Explaination of POS or TAG titles"
   ]
  },
  {
   "cell_type": "code",
   "execution_count": 7,
   "metadata": {},
   "outputs": [
    {
     "data": {
      "text/plain": [
       "'pronoun'"
      ]
     },
     "execution_count": 7,
     "metadata": {},
     "output_type": "execute_result"
    }
   ],
   "source": [
    "spacy.explain('PRON')"
   ]
  },
  {
   "cell_type": "code",
   "execution_count": 8,
   "metadata": {},
   "outputs": [
    {
     "data": {
      "text/plain": [
       "'pronoun, personal'"
      ]
     },
     "execution_count": 8,
     "metadata": {},
     "output_type": "execute_result"
    }
   ],
   "source": [
    "spacy.explain('PRP')"
   ]
  },
  {
   "cell_type": "code",
   "execution_count": 9,
   "metadata": {},
   "outputs": [],
   "source": [
    "# more complex example\n",
    "exercise1 = nlp(u\"All the faith he had had had had no effect on the outcome of his life\")\n",
    "#the first is a modifier while the second is the main verb of the sentence"
   ]
  },
  {
   "cell_type": "code",
   "execution_count": 10,
   "metadata": {},
   "outputs": [
    {
     "name": "stdout",
     "output_type": "stream",
     "text": [
      "('All', 'PDT', 'DET')\n",
      "('the', 'DT', 'DET')\n",
      "('faith', 'NN', 'NOUN')\n",
      "('he', 'PRP', 'PRON')\n",
      "('had', 'VBD', 'VERB')\n",
      "('had', 'VBN', 'VERB')\n",
      "('had', 'VBN', 'VERB')\n",
      "('had', 'VBN', 'VERB')\n",
      "('no', 'DT', 'DET')\n",
      "('effect', 'NN', 'NOUN')\n",
      "('on', 'IN', 'ADP')\n",
      "('the', 'DT', 'DET')\n",
      "('outcome', 'NN', 'NOUN')\n",
      "('of', 'IN', 'ADP')\n",
      "('his', 'PRP$', 'DET')\n",
      "('life', 'NN', 'NOUN')\n"
     ]
    }
   ],
   "source": [
    "for word in exercise1:\n",
    "    print((word.text,word.tag_,word.pos_))"
   ]
  },
  {
   "cell_type": "markdown",
   "metadata": {},
   "source": [
    "check how \"had\" has been used 4 times and how it shows different meaning in tagging"
   ]
  },
  {
   "cell_type": "code",
   "execution_count": 11,
   "metadata": {},
   "outputs": [
    {
     "data": {
      "text/plain": [
       "'verb, past tense'"
      ]
     },
     "execution_count": 11,
     "metadata": {},
     "output_type": "execute_result"
    }
   ],
   "source": [
    "spacy.explain('VBD')"
   ]
  },
  {
   "cell_type": "code",
   "execution_count": 12,
   "metadata": {},
   "outputs": [
    {
     "data": {
      "text/plain": [
       "'verb, past participle'"
      ]
     },
     "execution_count": 12,
     "metadata": {},
     "output_type": "execute_result"
    }
   ],
   "source": [
    "spacy.explain('VBN')"
   ]
  },
  {
   "cell_type": "code",
   "execution_count": 13,
   "metadata": {},
   "outputs": [],
   "source": [
    "exercise2 = nlp(\"The man the professor the student has studies Rome.\")\n",
    "#The student has the professor who knows the man who studies ancient Rome"
   ]
  },
  {
   "cell_type": "code",
   "execution_count": 14,
   "metadata": {},
   "outputs": [
    {
     "name": "stdout",
     "output_type": "stream",
     "text": [
      "('The', 'DT', 'DET')\n",
      "('man', 'NN', 'NOUN')\n",
      "('the', 'DT', 'DET')\n",
      "('professor', 'NN', 'NOUN')\n",
      "('the', 'DT', 'DET')\n",
      "('student', 'NN', 'NOUN')\n",
      "('has', 'VBZ', 'VERB')\n",
      "('studies', 'NNS', 'NOUN')\n",
      "('Rome', 'NNP', 'PROPN')\n",
      "('.', '.', 'PUNCT')\n"
     ]
    }
   ],
   "source": [
    "for word in exercise2:\n",
    "    print((word.text,word.tag_,word.pos_))"
   ]
  }
 ],
 "metadata": {
  "kernelspec": {
   "display_name": "Python 3",
   "language": "python",
   "name": "python3"
  },
  "language_info": {
   "codemirror_mode": {
    "name": "ipython",
    "version": 3
   },
   "file_extension": ".py",
   "mimetype": "text/x-python",
   "name": "python",
   "nbconvert_exporter": "python",
   "pygments_lexer": "ipython3",
   "version": "3.6.3"
  }
 },
 "nbformat": 4,
 "nbformat_minor": 2
}
